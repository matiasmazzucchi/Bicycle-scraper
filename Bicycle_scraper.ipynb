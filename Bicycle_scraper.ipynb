{
  "nbformat": 4,
  "nbformat_minor": 0,
  "metadata": {
    "colab": {
      "provenance": [],
      "toc_visible": true,
      "authorship_tag": "ABX9TyPF/nkb+sXEcZYMgb5Me7xD",
      "include_colab_link": true
    },
    "kernelspec": {
      "name": "python3",
      "display_name": "Python 3"
    },
    "language_info": {
      "name": "python"
    }
  },
  "cells": [
    {
      "cell_type": "markdown",
      "metadata": {
        "id": "view-in-github",
        "colab_type": "text"
      },
      "source": [
        "<a href=\"https://colab.research.google.com/github/matiasmazzucchi/Bicycle-scraper/blob/main/Bicycle_scraper.ipynb\" target=\"_parent\"><img src=\"https://colab.research.google.com/assets/colab-badge.svg\" alt=\"Open In Colab\"/></a>"
      ]
    },
    {
      "cell_type": "markdown",
      "source": [
        "CODIGO PARA EXTRAER KROMOS, BERTOLLINA Y FACHIN BIKES.\n",
        "---"
      ],
      "metadata": {
        "id": "qs-Tm3L8Nmij"
      }
    },
    {
      "cell_type": "code",
      "source": [
        "#llamar a las siguientes bibliotecas\n",
        "from bs4 import BeautifulSoup\n",
        "import requests\n",
        "import pandas as pd\n",
        "import re\n",
        "import csv\n",
        "import datetime\n",
        "import gspread\n",
        "\n",
        "\n",
        "#URL DE CADA PAGINA (terminados en 'K'es de la pagina Kromos y terminados en 'B' es de la pagina de bertollina, terminado con 'F' es de la pagina de Fachin)\n",
        "URL_BASE_K = 'https://www.kromosbicicletas.com.ar/productos/mar/1/venzo'\n",
        "URL_BASE_B = 'https://www.bertolinabikes.com/search/?q=venzo&mpage=2'\n",
        "URL_BASEF = 'https://www.facchinbicycles.com.ar/listado/deportes-fitness/ciclismo/bicicletas/venzo/'\n",
        "\n",
        "#Obtener el HTML de la página\n",
        "pedido_obtenidoK = requests.get(URL_BASE_K)\n",
        "html_obtenidoK = pedido_obtenidoK.text\n",
        "pedido_obtenidoB = requests.get(URL_BASE_B)\n",
        "html_obtenidoB = pedido_obtenidoB.text\n",
        "pedido_obtenidoF = requests.get(URL_BASEF)\n",
        "html_obtenidoF = pedido_obtenidoF.text\n",
        "\n",
        "#Parsear el HTML\n",
        "soupK = BeautifulSoup(html_obtenidoK, 'html.parser')\n",
        "soupB = BeautifulSoup(html_obtenidoB, 'html.parser')\n",
        "soupF = BeautifulSoup(html_obtenidoF, 'html.parser')\n"
      ],
      "metadata": {
        "id": "K_qLgAaxKk6D"
      },
      "execution_count": null,
      "outputs": []
    },
    {
      "cell_type": "code",
      "source": [
        "# Encontrar todos los títulos y precios\n",
        "#KROMOS\n",
        "bicicletasK = soupK.find_all('h2', class_='tt-title')\n",
        "precioK = soupK.find_all('div', class_=\"tt-price\")\n",
        "#BERTOLLINA\n",
        "bicicletasB = soupB.find_all('a', class_='js-item-name')\n",
        "preciosB = soupB.find_all('span', class_='js-price-display item-price h6')\n",
        "precios_viejosB = soupB.find_all('span', class_=\"js-compare-price-display item-price-compare p-none-left-xs p-right-quarter-xs\")\n",
        "#FACHIN\n",
        "bicicletaF = soupF.find_all('h2', class_='ui-search-item__title shops__item-title')\n",
        "preciosF = soupF.find_all('div', class_='ui-search-price ui-search-price--size-medium shops__price')\n"
      ],
      "metadata": {
        "id": "zOJsyvFtKqt6"
      },
      "execution_count": null,
      "outputs": []
    },
    {
      "cell_type": "code",
      "source": [
        "#Creating the lists for the next dataframe\n",
        "#KROMOS\n",
        "bicicletasKL = []\n",
        "precioKL = []\n",
        "#BERTOLLINA\n",
        "bicicletaBL = []\n",
        "preciosBL = []\n",
        "precios_viejosBL = []\n",
        "#FACHIN\n",
        "bicicletaLF = []\n",
        "preciosLF = []"
      ],
      "metadata": {
        "id": "z1_NKDX15mUK"
      },
      "execution_count": null,
      "outputs": []
    },
    {
      "cell_type": "code",
      "source": [
        "#Ciclos for para limpiar los datos y obtener los nombres y bicicletas\n",
        "#KROMOS\n",
        "for bicicleta in bicicletasK:\n",
        " bicicletasKL.append(bicicleta.get_text(strip=True))\n",
        "\n",
        "for precios in precioK:\n",
        "  precioKL.append(precios.get_text(strip=True))\n",
        "\n",
        "#BERTOLLINA\n",
        "for bicicletas in bicicletasB:\n",
        "  bicicletaBL.append(bicicletas.get_text(strip=True))\n",
        "\n",
        "for precios in preciosB:\n",
        "  preciosBL.append(precios.get_text(strip=True))\n",
        "\n",
        "\n",
        "for precio_viejo in precios_viejosB:\n",
        "  precios_viejosBL.append(precio_viejo.get_text(strip=True))\n",
        "\n",
        "#FACHIN\n",
        "for bicicletas in bicicletaF:\n",
        "  bicicletaLF.append(bicicletas.get_text(strip=True))\n",
        "\n",
        "for precio in preciosF:\n",
        "  preciosLF.append(precio.get_text(strip=True))\n"
      ],
      "metadata": {
        "id": "uzF-JwX9MBfN"
      },
      "execution_count": null,
      "outputs": []
    },
    {
      "cell_type": "code",
      "source": [
        "#Armado del dataframe\n",
        "#KROMOS DATAFRAME\n",
        "ListaFinalK = list(zip(bicicletasKL, precioKL))\n",
        "dfK = pd.DataFrame(ListaFinalK, columns=['Bicicleta','Precio'])\n",
        "\n",
        "#BERTOLLINA DATAFRAME\n",
        "ListaFinalB = list(zip(bicicletaBL, preciosBL, precios_viejosBL))\n",
        "dfB = pd.DataFrame(ListaFinalB, columns=['Bicicleta','Precio', 'Precios Viejos'])\n",
        "\n",
        "\n",
        "# prompt: eliminar los puntos de la columna de 'Precios' y 'Precios Viejos' de la variable 'dfB'\n",
        "\n",
        "dfB['Precios Viejos'] = dfB['Precios Viejos'].str.replace('.', '')\n",
        "dfB['Precio'] = dfB['Precio'].str.replace('.', '')\n",
        "\n",
        "# prompt: eliminar los puntos de la columna 'Precio' de la variable 'dfK' y tambien eliminar los ultimos dos digitos de la columna 'Precio' del la variable 'dfK'\n",
        "\n",
        "# Eliminar los puntos de la columna 'Precio' de la variable 'dfK'\n",
        "dfK['Precio'] = dfK['Precio'].str.replace('.', '')\n",
        "\n",
        "# Eliminar los últimos dos dígitos de la columna 'Precio' del la variable 'dfK'\n",
        "dfK['Precio'] = dfK['Precio'].str[:-2]\n",
        "\n",
        "# prompt: Añadir una columna que se llame fecha de extaraxion  en el dfK y que registre la fecha en la que se realizo la extraccion del dato\n",
        "\n",
        "# Get the current date and time\n",
        "now = datetime.datetime.now()\n",
        "\n",
        "# Format the date and time\n",
        "formatted_date = now.strftime(\"%Y-%m-%d\")\n",
        "\n",
        "# Add a new column to the DataFrame\n",
        "dfK[\"Fecha de extraccion\"] = formatted_date\n",
        "dfB[\"Fecha de extraccion\"] = formatted_date\n",
        "\n",
        "#FACHIN DATAFRAME\n",
        "ListaFinalF = list(zip(bicicletaLF, preciosLF))\n",
        "dfF = pd.DataFrame(ListaFinalF, columns=['Bicicleta','Precio'])\n",
        "\n",
        "# prompt: si algun registro de la olumna 'Precio' contiene 'OFF' eliminar los primeros 8 caracteres en la variable 'dfF'\n",
        "\n",
        "dfF['Precio'] = dfF['Precio'].apply(lambda x: x[8:] if 'OFF' in x else x)\n",
        "\n",
        "# prompt: eliminar los puntos de la columna 'Precio' de la variable dfF  y tambien eliminar los caracteres igual a '%' y 'OFF'\n",
        "\n",
        "dfF['Precio'] = dfF['Precio'].str.replace('.', '')\n",
        "dfF['Precio'] = dfF['Precio'].str.replace('%', '')\n",
        "dfF['Precio'] = dfF['Precio'].str.replace('OFF', '')\n",
        "\n",
        "# prompt: añadir en el 'dfF' una columna que se llame 'fecha de extraccion' que contenga la fecha en la que se realizo la extraccion de los datos\n",
        "\n",
        "# Get the current date and time\n",
        "now = datetime.datetime.now()\n",
        "\n",
        "# Format the date and time\n",
        "formatted_date = now.strftime(\"%Y-%m-%d\")\n",
        "\n",
        "# Add a new column to the DataFrame\n",
        "dfF[\"Fecha de extraccion\"] = formatted_date\n",
        "\n",
        "\n",
        "\n",
        "\n",
        "\n"
      ],
      "metadata": {
        "id": "sJWTK3IIv0jt"
      },
      "execution_count": null,
      "outputs": []
    },
    {
      "cell_type": "markdown",
      "source": [
        "CREATING A DATAFRAME TO EXPORT DATA TO GOOGLE SHEETS FROM GOOGLE COLAB\n"
      ],
      "metadata": {
        "id": "62H1CtHgljWa"
      }
    },
    {
      "cell_type": "code",
      "source": [
        "#Autenticacion y permisos de uso de la API de google SHEETS\n",
        "from google.colab import auth\n",
        "auth.authenticate_user()\n",
        "\n",
        "from google.auth import default\n",
        "creds, _ = default()\n",
        "\n",
        "gc = gspread.authorize(creds)\n",
        "\n",
        "#CREACION de la hoja de caluclo de google sheets\n",
        "sh = gc.create('Bicicletas Web scraping Gspread KROMOS, BERTOLLINA AND FACHIN')\n",
        "\n",
        "#Crado de las hojas dentro de  'Bicicletas Web scraping Gspread KROMOS AND BERTOLLINA'\n",
        "\n",
        "worksheet1 = gc.open('Bicicletas Web scraping Gspread KROMOS, BERTOLLINA AND FACHIN').add_worksheet(title=\"Kromos\", rows=100, cols=20)\n",
        "worksheet2 = gc.open('Bicicletas Web scraping Gspread KROMOS, BERTOLLINA AND FACHIN').add_worksheet(title=\"Bertollina\", rows=100, cols=20)\n",
        "worksheet3 = gc.open('Bicicletas Web scraping Gspread KROMOS, BERTOLLINA AND FACHIN').add_worksheet(title=\"Fachin\", rows=100, cols=20)\n",
        "\n",
        "#Agregado del Open de las distintas hojas\n",
        "worksheetK = gc.open('Bicicletas Web scraping Gspread KROMOS, BERTOLLINA AND FACHIN').worksheet('Kromos')\n",
        "worksheetB = gc.open('Bicicletas Web scraping Gspread KROMOS, BERTOLLINA AND FACHIN').worksheet('Bertollina')\n",
        "worksheetF = gc.open('Bicicletas Web scraping Gspread KROMOS, BERTOLLINA AND FACHIN').worksheet('Fachin')\n",
        "\n",
        "#Apertura de todas las hojas y almacenamiento de los datos en las hojas correspondientes\n",
        "worksheetK.update([dfK.columns.values.tolist()] + dfK.values.tolist())\n",
        "worksheetB.update([dfB.columns.values.tolist()] + dfB.values.tolist())\n",
        "worksheetF.update([dfF.columns.values.tolist()] + dfF.values.tolist())"
      ],
      "metadata": {
        "id": "7vL-hKv54EBX"
      },
      "execution_count": null,
      "outputs": []
    },
    {
      "cell_type": "markdown",
      "source": [
        "\n",
        "\n",
        "---\n",
        "\n"
      ],
      "metadata": {
        "id": "0FjbMzHK6sL-"
      }
    },
    {
      "cell_type": "code",
      "source": [
        "#ESTE ES EL CODIGO COMPLETO PARA DESCARGAR DIRECTAMENTE EL CSV Y HACERLO CON LOS METODOS VIEJOS\n",
        "#bicicletasL.insert(0, \"Bicicletas\")\n",
        "#precioL.insert(0, \"Precio\")\n",
        "#datos = dict(zip(bicicletasL, precioL))\n",
        "#with open (\"datos.csv\", \"w\") as f:\n",
        " # w = csv.writer(f)\n",
        " # w.writerows(datos.items())"
      ],
      "metadata": {
        "id": "SzIhjhSFt7Ab"
      },
      "execution_count": null,
      "outputs": []
    },
    {
      "cell_type": "markdown",
      "source": [
        "\n",
        "\n",
        "---\n",
        "\n"
      ],
      "metadata": {
        "id": "FuWK_gxvNbcI"
      }
    }
  ]
}